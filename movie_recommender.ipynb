{
 "cells": [
  {
   "cell_type": "code",
   "execution_count": 12,
   "metadata": {},
   "outputs": [
    {
     "name": "stdout",
     "output_type": "stream",
     "text": [
      "[[ 8  7  9  0  7]\n",
      " [ 9  2  8  8  0]\n",
      " [ 8  0  0  0  7]\n",
      " [ 0  4  5  8  9]\n",
      " [10  6  9  6  7]\n",
      " [ 7 10  9 10  0]\n",
      " [ 7  9  1  6  1]\n",
      " [ 7  2  7  8  5]\n",
      " [ 9  8  0 10  5]\n",
      " [10  0  5  0  1]]\n"
     ]
    }
   ],
   "source": [
    "from numpy import *\n",
    "num_movies = 10\n",
    "num_users = 5\n",
    "ratings = random.randint(11, size = (num_movies, num_users))\n",
    "print(ratings)"
   ]
  },
  {
   "cell_type": "code",
   "execution_count": 13,
   "metadata": {},
   "outputs": [],
   "source": [
    "did_rate = (ratings != 0) * 1"
   ]
  },
  {
   "cell_type": "code",
   "execution_count": 14,
   "metadata": {},
   "outputs": [
    {
     "data": {
      "text/plain": [
       "(10, 5)"
      ]
     },
     "execution_count": 14,
     "metadata": {},
     "output_type": "execute_result"
    }
   ],
   "source": [
    "ratings.shape"
   ]
  },
  {
   "cell_type": "code",
   "execution_count": 15,
   "metadata": {},
   "outputs": [],
   "source": [
    "nikhil_ratings=zeros((num_movies, 1))"
   ]
  },
  {
   "cell_type": "code",
   "execution_count": 16,
   "metadata": {},
   "outputs": [],
   "source": [
    "nikhil_ratings[0] = 8\n",
    "nikhil_ratings[4] = 7\n",
    "nikhil_ratings[7] = 3\n"
   ]
  },
  {
   "cell_type": "code",
   "execution_count": 17,
   "metadata": {},
   "outputs": [
    {
     "name": "stdout",
     "output_type": "stream",
     "text": [
      "[[8.]\n",
      " [0.]\n",
      " [0.]\n",
      " [0.]\n",
      " [7.]\n",
      " [0.]\n",
      " [0.]\n",
      " [3.]\n",
      " [0.]\n",
      " [0.]]\n"
     ]
    }
   ],
   "source": [
    "print(nikhil_ratings)"
   ]
  },
  {
   "cell_type": "code",
   "execution_count": 18,
   "metadata": {},
   "outputs": [],
   "source": [
    "ratings = append(nikhil_ratings,ratings,axis=1)\n",
    "did_rate = append((nikhil_ratings != 0) * 1,did_rate,axis=1)"
   ]
  },
  {
   "cell_type": "code",
   "execution_count": 19,
   "metadata": {},
   "outputs": [
    {
     "data": {
      "text/plain": [
       "array([[ 8.,  8.,  7.,  9.,  0.,  7.],\n",
       "       [ 0.,  9.,  2.,  8.,  8.,  0.],\n",
       "       [ 0.,  8.,  0.,  0.,  0.,  7.],\n",
       "       [ 0.,  0.,  4.,  5.,  8.,  9.],\n",
       "       [ 7., 10.,  6.,  9.,  6.,  7.],\n",
       "       [ 0.,  7., 10.,  9., 10.,  0.],\n",
       "       [ 0.,  7.,  9.,  1.,  6.,  1.],\n",
       "       [ 3.,  7.,  2.,  7.,  8.,  5.],\n",
       "       [ 0.,  9.,  8.,  0., 10.,  5.],\n",
       "       [ 0., 10.,  0.,  5.,  0.,  1.]])"
      ]
     },
     "execution_count": 19,
     "metadata": {},
     "output_type": "execute_result"
    }
   ],
   "source": [
    "ratings"
   ]
  },
  {
   "cell_type": "code",
   "execution_count": 20,
   "metadata": {},
   "outputs": [
    {
     "data": {
      "text/plain": [
       "array([[1, 1, 1, 1, 0, 1],\n",
       "       [0, 1, 1, 1, 1, 0],\n",
       "       [0, 1, 0, 0, 0, 1],\n",
       "       [0, 0, 1, 1, 1, 1],\n",
       "       [1, 1, 1, 1, 1, 1],\n",
       "       [0, 1, 1, 1, 1, 0],\n",
       "       [0, 1, 1, 1, 1, 1],\n",
       "       [1, 1, 1, 1, 1, 1],\n",
       "       [0, 1, 1, 0, 1, 1],\n",
       "       [0, 1, 0, 1, 0, 1]])"
      ]
     },
     "execution_count": 20,
     "metadata": {},
     "output_type": "execute_result"
    }
   ],
   "source": [
    "did_rate"
   ]
  },
  {
   "cell_type": "code",
   "execution_count": 21,
   "metadata": {},
   "outputs": [],
   "source": [
    "def normalize_ratings(ratings,did_rate):\n",
    "    num_movies = ratings.shape[0]\n",
    "    \n",
    "    ratings_mean = zeros(shape=(num_movies,1))\n",
    "    "
   ]
  }
 ],
 "metadata": {
  "kernelspec": {
   "display_name": "Python [default]",
   "language": "python",
   "name": "python3"
  },
  "language_info": {
   "codemirror_mode": {
    "name": "ipython",
    "version": 3
   },
   "file_extension": ".py",
   "mimetype": "text/x-python",
   "name": "python",
   "nbconvert_exporter": "python",
   "pygments_lexer": "ipython3",
   "version": "3.7.0"
  }
 },
 "nbformat": 4,
 "nbformat_minor": 2
}
