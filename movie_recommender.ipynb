{
 "cells": [
  {
   "cell_type": "code",
   "execution_count": 1,
   "metadata": {},
   "outputs": [
    {
     "name": "stdout",
     "output_type": "stream",
     "text": [
      "[[ 5  7  7  0  8]\n",
      " [ 9  6  5  6  8]\n",
      " [ 5  6  8  8  0]\n",
      " [ 9  1  9  1  8]\n",
      " [ 4  0  8  4  0]\n",
      " [ 5  8  6  9  2]\n",
      " [ 7  3  9  7  5]\n",
      " [10  3  9  3  5]\n",
      " [ 2  5  9  7  2]\n",
      " [ 1  2  3  9  2]]\n"
     ]
    }
   ],
   "source": [
    "from numpy import *\n",
    "num_movies = 10\n",
    "num_users = 5\n",
    "ratings = random.randint(11, size = (num_movies, num_users))\n",
    "print(ratings)"
   ]
  },
  {
   "cell_type": "code",
   "execution_count": 2,
   "metadata": {},
   "outputs": [],
   "source": [
    "did_rate = (ratings != 0) * 1"
   ]
  },
  {
   "cell_type": "code",
   "execution_count": 3,
   "metadata": {},
   "outputs": [
    {
     "data": {
      "text/plain": [
       "(10, 5)"
      ]
     },
     "execution_count": 3,
     "metadata": {},
     "output_type": "execute_result"
    }
   ],
   "source": [
    "ratings.shape"
   ]
  },
  {
   "cell_type": "code",
   "execution_count": 4,
   "metadata": {},
   "outputs": [],
   "source": [
    "nikhil_ratings=zeros((num_movies, 1))"
   ]
  },
  {
   "cell_type": "code",
   "execution_count": 5,
   "metadata": {},
   "outputs": [],
   "source": [
    "nikhil_ratings[0] = 8\n",
    "nikhil_ratings[4] = 7\n",
    "nikhil_ratings[7] = 3\n"
   ]
  },
  {
   "cell_type": "code",
   "execution_count": 6,
   "metadata": {},
   "outputs": [
    {
     "name": "stdout",
     "output_type": "stream",
     "text": [
      "[[8.]\n",
      " [0.]\n",
      " [0.]\n",
      " [0.]\n",
      " [7.]\n",
      " [0.]\n",
      " [0.]\n",
      " [3.]\n",
      " [0.]\n",
      " [0.]]\n"
     ]
    }
   ],
   "source": [
    "print(nikhil_ratings)"
   ]
  },
  {
   "cell_type": "code",
   "execution_count": 7,
   "metadata": {},
   "outputs": [],
   "source": [
    "ratings = append(nikhil_ratings,ratings,axis=1)\n",
    "did_rate = append((nikhil_ratings != 0) * 1,did_rate,axis=1)"
   ]
  },
  {
   "cell_type": "code",
   "execution_count": 8,
   "metadata": {},
   "outputs": [
    {
     "data": {
      "text/plain": [
       "array([[ 8.,  5.,  7.,  7.,  0.,  8.],\n",
       "       [ 0.,  9.,  6.,  5.,  6.,  8.],\n",
       "       [ 0.,  5.,  6.,  8.,  8.,  0.],\n",
       "       [ 0.,  9.,  1.,  9.,  1.,  8.],\n",
       "       [ 7.,  4.,  0.,  8.,  4.,  0.],\n",
       "       [ 0.,  5.,  8.,  6.,  9.,  2.],\n",
       "       [ 0.,  7.,  3.,  9.,  7.,  5.],\n",
       "       [ 3., 10.,  3.,  9.,  3.,  5.],\n",
       "       [ 0.,  2.,  5.,  9.,  7.,  2.],\n",
       "       [ 0.,  1.,  2.,  3.,  9.,  2.]])"
      ]
     },
     "execution_count": 8,
     "metadata": {},
     "output_type": "execute_result"
    }
   ],
   "source": [
    "ratings"
   ]
  },
  {
   "cell_type": "code",
   "execution_count": 9,
   "metadata": {},
   "outputs": [
    {
     "data": {
      "text/plain": [
       "array([[1, 1, 1, 1, 0, 1],\n",
       "       [0, 1, 1, 1, 1, 1],\n",
       "       [0, 1, 1, 1, 1, 0],\n",
       "       [0, 1, 1, 1, 1, 1],\n",
       "       [1, 1, 0, 1, 1, 0],\n",
       "       [0, 1, 1, 1, 1, 1],\n",
       "       [0, 1, 1, 1, 1, 1],\n",
       "       [1, 1, 1, 1, 1, 1],\n",
       "       [0, 1, 1, 1, 1, 1],\n",
       "       [0, 1, 1, 1, 1, 1]])"
      ]
     },
     "execution_count": 9,
     "metadata": {},
     "output_type": "execute_result"
    }
   ],
   "source": [
    "did_rate"
   ]
  },
  {
   "cell_type": "code",
   "execution_count": 24,
   "metadata": {},
   "outputs": [],
   "source": [
    "def normalize_ratings(ratings,did_rate):\n",
    "    num_movies = ratings.shape[0]\n",
    "    \n",
    "    ratings_mean = zeros(shape=(num_movies,1))\n",
    "    ratings_norm = zeros(shape = ratings.shape)\n",
    "    for i in range(num_movies):\n",
    "        #get all indexes where there is 1\n",
    "        idx = where(did_rate[i] ==1)[0]\n",
    "        \n",
    "        ratings_mean[i] = mean(ratings[i, idx])\n",
    "        ratings_norm[i, idx] = ratings[i, idx] - ratings_mean[i]\n",
    "    return ratings_norm,ratings_mean\n",
    "\n",
    "    "
   ]
  },
  {
   "cell_type": "code",
   "execution_count": 25,
   "metadata": {},
   "outputs": [],
   "source": [
    "ratings, ratings_mean = normalize_ratings(ratings, did_rate)\n"
   ]
  },
  {
   "cell_type": "code",
   "execution_count": 26,
   "metadata": {},
   "outputs": [
    {
     "data": {
      "text/plain": [
       "array([[ 1.  , -2.  ,  0.  ,  0.  ,  0.  ,  1.  ],\n",
       "       [ 0.  ,  2.2 , -0.8 , -1.8 , -0.8 ,  1.2 ],\n",
       "       [ 0.  , -1.75, -0.75,  1.25,  1.25,  0.  ],\n",
       "       [ 0.  ,  3.4 , -4.6 ,  3.4 , -4.6 ,  2.4 ],\n",
       "       [ 1.25, -1.75,  0.  ,  2.25, -1.75,  0.  ],\n",
       "       [ 0.  , -1.  ,  2.  ,  0.  ,  3.  , -4.  ],\n",
       "       [ 0.  ,  0.8 , -3.2 ,  2.8 ,  0.8 , -1.2 ],\n",
       "       [-2.5 ,  4.5 , -2.5 ,  3.5 , -2.5 , -0.5 ],\n",
       "       [ 0.  , -3.  ,  0.  ,  4.  ,  2.  , -3.  ],\n",
       "       [ 0.  , -2.4 , -1.4 , -0.4 ,  5.6 , -1.4 ]])"
      ]
     },
     "execution_count": 26,
     "metadata": {},
     "output_type": "execute_result"
    }
   ],
   "source": [
    "ratings"
   ]
  },
  {
   "cell_type": "code",
   "execution_count": 28,
   "metadata": {},
   "outputs": [
    {
     "data": {
      "text/plain": [
       "array([[7.  ],\n",
       "       [6.8 ],\n",
       "       [6.75],\n",
       "       [5.6 ],\n",
       "       [5.75],\n",
       "       [6.  ],\n",
       "       [6.2 ],\n",
       "       [5.5 ],\n",
       "       [5.  ],\n",
       "       [3.4 ]])"
      ]
     },
     "execution_count": 28,
     "metadata": {},
     "output_type": "execute_result"
    }
   ],
   "source": [
    "ratings_mean"
   ]
  },
  {
   "cell_type": "code",
   "execution_count": 35,
   "metadata": {},
   "outputs": [],
   "source": [
    "#update some of the key values now\n",
    "num_users = ratings.shape[1]\n",
    "num_features = 3\n",
    "#Initialize Parameters theta(user_prefs), X(movie_features)\n",
    "movie_features = random.randn(num_movies,num_features)\n",
    "user_prefs = random.randn(num_users,num_features)\n",
    "initial_X_and_theta = r_[movie_features.T.flatten(),user_prefs.T.flatten()]"
   ]
  },
  {
   "cell_type": "code",
   "execution_count": 37,
   "metadata": {},
   "outputs": [
    {
     "data": {
      "text/plain": [
       "array([[ 0.00914085, -0.54152747,  0.71692849],\n",
       "       [-0.3974475 , -0.11126951, -1.535438  ],\n",
       "       [-0.15623124, -1.76934064,  0.26553521],\n",
       "       [ 0.14553896, -1.49306509,  0.08648407],\n",
       "       [ 0.48320006, -0.38268656, -0.77287369],\n",
       "       [ 0.39616522, -2.09090186,  0.47876747],\n",
       "       [ 0.33080227, -0.47333973,  0.54701911],\n",
       "       [ 0.5958264 , -1.02750719,  2.1639945 ],\n",
       "       [-1.33214274,  0.6643108 , -1.5392476 ],\n",
       "       [-0.61630067, -1.4351662 , -1.33419568]])"
      ]
     },
     "execution_count": 37,
     "metadata": {},
     "output_type": "execute_result"
    }
   ],
   "source": [
    "movie_features"
   ]
  },
  {
   "cell_type": "code",
   "execution_count": 38,
   "metadata": {},
   "outputs": [
    {
     "data": {
      "text/plain": [
       "array([[-0.71126253,  1.88762456, -1.83197711],\n",
       "       [-0.41813297,  0.84591325,  0.08795583],\n",
       "       [ 2.28189498, -1.0168791 , -0.67394716],\n",
       "       [-1.49839322,  0.78138165,  0.39825468],\n",
       "       [ 0.39457415, -0.49690944, -1.33706892],\n",
       "       [-0.41927618,  0.92779668,  0.17928958]])"
      ]
     },
     "execution_count": 38,
     "metadata": {},
     "output_type": "execute_result"
    }
   ],
   "source": [
    "user_prefs"
   ]
  },
  {
   "cell_type": "code",
   "execution_count": 40,
   "metadata": {},
   "outputs": [
    {
     "data": {
      "text/plain": [
       "(48,)"
      ]
     },
     "execution_count": 40,
     "metadata": {},
     "output_type": "execute_result"
    }
   ],
   "source": [
    "initial_X_and_theta.shape"
   ]
  },
  {
   "cell_type": "code",
   "execution_count": 39,
   "metadata": {},
   "outputs": [
    {
     "data": {
      "text/plain": [
       "array([ 0.00914085, -0.3974475 , -0.15623124,  0.14553896,  0.48320006,\n",
       "        0.39616522,  0.33080227,  0.5958264 , -1.33214274, -0.61630067,\n",
       "       -0.54152747, -0.11126951, -1.76934064, -1.49306509, -0.38268656,\n",
       "       -2.09090186, -0.47333973, -1.02750719,  0.6643108 , -1.4351662 ,\n",
       "        0.71692849, -1.535438  ,  0.26553521,  0.08648407, -0.77287369,\n",
       "        0.47876747,  0.54701911,  2.1639945 , -1.5392476 , -1.33419568])"
      ]
     },
     "execution_count": 39,
     "metadata": {},
     "output_type": "execute_result"
    }
   ],
   "source": [
    "movie_features.T.flatten()"
   ]
  },
  {
   "cell_type": "code",
   "execution_count": 41,
   "metadata": {},
   "outputs": [],
   "source": [
    "def unroll_params(X_and_theta, num_users, num_movies, num_features):\n",
    "\t# Retrieve the X and theta matrixes from X_and_theta, based on their dimensions (num_features, num_movies, num_movies)\n",
    "\t# --------------------------------------------------------------------------------------------------------------\n",
    "\t# Get the first 30 (10 * 3) rows in the 48 X 1 column vector\n",
    "\tfirst_30 = X_and_theta[:num_movies * num_features]\n",
    "\t# Reshape this column vector into a 10 X 3 matrix\n",
    "\tX = first_30.reshape((num_features, num_movies)).transpose()\n",
    "\t# Get the rest of the 18 the numbers, after the first 30\n",
    "\tlast_18 = X_and_theta[num_movies * num_features:]\n",
    "\t# Reshape this column vector into a 6 X 3 matrix\n",
    "\ttheta = last_18.reshape(num_features, num_users ).transpose()\n",
    "\treturn X, theta"
   ]
  },
  {
   "cell_type": "code",
   "execution_count": 42,
   "metadata": {},
   "outputs": [],
   "source": [
    "temp = initial_X_and_theta\n",
    "first_30 = temp[:num_movies * num_features]"
   ]
  },
  {
   "cell_type": "code",
   "execution_count": 43,
   "metadata": {},
   "outputs": [
    {
     "data": {
      "text/plain": [
       "array([ 0.00914085, -0.3974475 , -0.15623124,  0.14553896,  0.48320006,\n",
       "        0.39616522,  0.33080227,  0.5958264 , -1.33214274, -0.61630067,\n",
       "       -0.54152747, -0.11126951, -1.76934064, -1.49306509, -0.38268656,\n",
       "       -2.09090186, -0.47333973, -1.02750719,  0.6643108 , -1.4351662 ,\n",
       "        0.71692849, -1.535438  ,  0.26553521,  0.08648407, -0.77287369,\n",
       "        0.47876747,  0.54701911,  2.1639945 , -1.5392476 , -1.33419568])"
      ]
     },
     "execution_count": 43,
     "metadata": {},
     "output_type": "execute_result"
    }
   ],
   "source": [
    "first_30"
   ]
  },
  {
   "cell_type": "code",
   "execution_count": 46,
   "metadata": {},
   "outputs": [
    {
     "data": {
      "text/plain": [
       "array([[ 0.00914085, -0.54152747,  0.71692849],\n",
       "       [-0.3974475 , -0.11126951, -1.535438  ],\n",
       "       [-0.15623124, -1.76934064,  0.26553521],\n",
       "       [ 0.14553896, -1.49306509,  0.08648407],\n",
       "       [ 0.48320006, -0.38268656, -0.77287369],\n",
       "       [ 0.39616522, -2.09090186,  0.47876747],\n",
       "       [ 0.33080227, -0.47333973,  0.54701911],\n",
       "       [ 0.5958264 , -1.02750719,  2.1639945 ],\n",
       "       [-1.33214274,  0.6643108 , -1.5392476 ],\n",
       "       [-0.61630067, -1.4351662 , -1.33419568]])"
      ]
     },
     "execution_count": 46,
     "metadata": {},
     "output_type": "execute_result"
    }
   ],
   "source": [
    "first_30.reshape((num_features, num_movies)).transpose()"
   ]
  },
  {
   "cell_type": "code",
   "execution_count": null,
   "metadata": {},
   "outputs": [],
   "source": []
  },
  {
   "cell_type": "code",
   "execution_count": null,
   "metadata": {},
   "outputs": [],
   "source": []
  },
  {
   "cell_type": "code",
   "execution_count": null,
   "metadata": {},
   "outputs": [],
   "source": []
  },
  {
   "cell_type": "code",
   "execution_count": null,
   "metadata": {},
   "outputs": [],
   "source": []
  },
  {
   "cell_type": "code",
   "execution_count": null,
   "metadata": {},
   "outputs": [],
   "source": []
  },
  {
   "cell_type": "code",
   "execution_count": null,
   "metadata": {},
   "outputs": [],
   "source": []
  }
 ],
 "metadata": {
  "kernelspec": {
   "display_name": "Python [default]",
   "language": "python",
   "name": "python3"
  },
  "language_info": {
   "codemirror_mode": {
    "name": "ipython",
    "version": 3
   },
   "file_extension": ".py",
   "mimetype": "text/x-python",
   "name": "python",
   "nbconvert_exporter": "python",
   "pygments_lexer": "ipython3",
   "version": "3.7.0"
  }
 },
 "nbformat": 4,
 "nbformat_minor": 2
}
