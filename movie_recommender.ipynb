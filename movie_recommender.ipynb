{
 "cells": [
  {
   "cell_type": "code",
   "execution_count": 1,
   "metadata": {},
   "outputs": [
    {
     "name": "stdout",
     "output_type": "stream",
     "text": [
      "[[10  0  1  2  4]\n",
      " [ 6  8  4  6  3]\n",
      " [ 2  4  7  1  3]\n",
      " [ 0  7  6  1  0]\n",
      " [ 7  8  6  0  8]\n",
      " [ 0  7  4  6  1]\n",
      " [10  0  9  3  8]\n",
      " [ 2 10  2  6  6]\n",
      " [ 0  0  6  8  0]\n",
      " [ 0  8  5  9  3]]\n"
     ]
    }
   ],
   "source": [
    "from numpy import *\n",
    "num_movies = 10\n",
    "num_users = 5\n",
    "ratings = random.randint(11, size = (num_movies, num_users))\n",
    "print(ratings)"
   ]
  },
  {
   "cell_type": "code",
   "execution_count": 2,
   "metadata": {},
   "outputs": [],
   "source": [
    "did_rate = (ratings != 0) * 1"
   ]
  },
  {
   "cell_type": "code",
   "execution_count": 3,
   "metadata": {},
   "outputs": [
    {
     "data": {
      "text/plain": [
       "(10, 5)"
      ]
     },
     "execution_count": 3,
     "metadata": {},
     "output_type": "execute_result"
    }
   ],
   "source": [
    "ratings.shape"
   ]
  },
  {
   "cell_type": "code",
   "execution_count": 4,
   "metadata": {},
   "outputs": [],
   "source": [
    "nikhil_ratings=zeros((num_movies, 1))"
   ]
  },
  {
   "cell_type": "code",
   "execution_count": 5,
   "metadata": {},
   "outputs": [],
   "source": [
    "nikhil_ratings[0] = 8\n",
    "nikhil_ratings[4] = 7\n",
    "nikhil_ratings[7] = 3\n"
   ]
  },
  {
   "cell_type": "code",
   "execution_count": 6,
   "metadata": {},
   "outputs": [
    {
     "name": "stdout",
     "output_type": "stream",
     "text": [
      "[[8.]\n",
      " [0.]\n",
      " [0.]\n",
      " [0.]\n",
      " [7.]\n",
      " [0.]\n",
      " [0.]\n",
      " [3.]\n",
      " [0.]\n",
      " [0.]]\n"
     ]
    }
   ],
   "source": [
    "print(nikhil_ratings)"
   ]
  },
  {
   "cell_type": "code",
   "execution_count": 7,
   "metadata": {},
   "outputs": [],
   "source": [
    "ratings = append(nikhil_ratings,ratings,axis=1)\n",
    "did_rate = append((nikhil_ratings != 0) * 1,did_rate,axis=1)"
   ]
  },
  {
   "cell_type": "code",
   "execution_count": 8,
   "metadata": {},
   "outputs": [
    {
     "data": {
      "text/plain": [
       "array([[ 8., 10.,  0.,  1.,  2.,  4.],\n",
       "       [ 0.,  6.,  8.,  4.,  6.,  3.],\n",
       "       [ 0.,  2.,  4.,  7.,  1.,  3.],\n",
       "       [ 0.,  0.,  7.,  6.,  1.,  0.],\n",
       "       [ 7.,  7.,  8.,  6.,  0.,  8.],\n",
       "       [ 0.,  0.,  7.,  4.,  6.,  1.],\n",
       "       [ 0., 10.,  0.,  9.,  3.,  8.],\n",
       "       [ 3.,  2., 10.,  2.,  6.,  6.],\n",
       "       [ 0.,  0.,  0.,  6.,  8.,  0.],\n",
       "       [ 0.,  0.,  8.,  5.,  9.,  3.]])"
      ]
     },
     "execution_count": 8,
     "metadata": {},
     "output_type": "execute_result"
    }
   ],
   "source": [
    "ratings"
   ]
  },
  {
   "cell_type": "code",
   "execution_count": 9,
   "metadata": {},
   "outputs": [
    {
     "data": {
      "text/plain": [
       "array([[1, 1, 0, 1, 1, 1],\n",
       "       [0, 1, 1, 1, 1, 1],\n",
       "       [0, 1, 1, 1, 1, 1],\n",
       "       [0, 0, 1, 1, 1, 0],\n",
       "       [1, 1, 1, 1, 0, 1],\n",
       "       [0, 0, 1, 1, 1, 1],\n",
       "       [0, 1, 0, 1, 1, 1],\n",
       "       [1, 1, 1, 1, 1, 1],\n",
       "       [0, 0, 0, 1, 1, 0],\n",
       "       [0, 0, 1, 1, 1, 1]])"
      ]
     },
     "execution_count": 9,
     "metadata": {},
     "output_type": "execute_result"
    }
   ],
   "source": [
    "did_rate"
   ]
  },
  {
   "cell_type": "code",
   "execution_count": 10,
   "metadata": {},
   "outputs": [],
   "source": [
    "def normalize_ratings(ratings,did_rate):\n",
    "    num_movies = ratings.shape[0]\n",
    "    \n",
    "    ratings_mean = zeros(shape=(num_movies,1))\n",
    "    ratings_norm = zeros(shape = ratings.shape)\n",
    "    for i in range(num_movies):\n",
    "        #get all indexes where there is 1\n",
    "        idx = where(did_rate[i] ==1)[0]\n",
    "        \n",
    "        ratings_mean[i] = mean(ratings[i, idx])\n",
    "        ratings_norm[i, idx] = ratings[i, idx] - ratings_mean[i]\n",
    "    return ratings_norm,ratings_mean\n",
    "\n",
    "    "
   ]
  },
  {
   "cell_type": "code",
   "execution_count": 11,
   "metadata": {},
   "outputs": [],
   "source": [
    "ratings, ratings_mean = normalize_ratings(ratings, did_rate)\n"
   ]
  },
  {
   "cell_type": "code",
   "execution_count": 12,
   "metadata": {},
   "outputs": [
    {
     "data": {
      "text/plain": [
       "array([[ 3.        ,  5.        ,  0.        , -4.        , -3.        ,\n",
       "        -1.        ],\n",
       "       [ 0.        ,  0.6       ,  2.6       , -1.4       ,  0.6       ,\n",
       "        -2.4       ],\n",
       "       [ 0.        , -1.4       ,  0.6       ,  3.6       , -2.4       ,\n",
       "        -0.4       ],\n",
       "       [ 0.        ,  0.        ,  2.33333333,  1.33333333, -3.66666667,\n",
       "         0.        ],\n",
       "       [-0.2       , -0.2       ,  0.8       , -1.2       ,  0.        ,\n",
       "         0.8       ],\n",
       "       [ 0.        ,  0.        ,  2.5       , -0.5       ,  1.5       ,\n",
       "        -3.5       ],\n",
       "       [ 0.        ,  2.5       ,  0.        ,  1.5       , -4.5       ,\n",
       "         0.5       ],\n",
       "       [-1.83333333, -2.83333333,  5.16666667, -2.83333333,  1.16666667,\n",
       "         1.16666667],\n",
       "       [ 0.        ,  0.        ,  0.        , -1.        ,  1.        ,\n",
       "         0.        ],\n",
       "       [ 0.        ,  0.        ,  1.75      , -1.25      ,  2.75      ,\n",
       "        -3.25      ]])"
      ]
     },
     "execution_count": 12,
     "metadata": {},
     "output_type": "execute_result"
    }
   ],
   "source": [
    "ratings"
   ]
  },
  {
   "cell_type": "code",
   "execution_count": 13,
   "metadata": {},
   "outputs": [
    {
     "data": {
      "text/plain": [
       "array([[5.        ],\n",
       "       [5.4       ],\n",
       "       [3.4       ],\n",
       "       [4.66666667],\n",
       "       [7.2       ],\n",
       "       [4.5       ],\n",
       "       [7.5       ],\n",
       "       [4.83333333],\n",
       "       [7.        ],\n",
       "       [6.25      ]])"
      ]
     },
     "execution_count": 13,
     "metadata": {},
     "output_type": "execute_result"
    }
   ],
   "source": [
    "ratings_mean"
   ]
  },
  {
   "cell_type": "code",
   "execution_count": 14,
   "metadata": {},
   "outputs": [],
   "source": [
    "#update some of the key values now\n",
    "num_users = ratings.shape[1]\n",
    "num_features = 3\n",
    "#Initialize Parameters theta(user_prefs), X(movie_features)\n",
    "movie_features = random.randn(num_movies,num_features)\n",
    "user_prefs = random.randn(num_users,num_features)\n",
    "initial_X_and_theta = r_[movie_features.T.flatten(),user_prefs.T.flatten()]"
   ]
  },
  {
   "cell_type": "code",
   "execution_count": 15,
   "metadata": {},
   "outputs": [
    {
     "data": {
      "text/plain": [
       "array([[ 0.07695652, -1.88127091, -1.98345064],\n",
       "       [ 0.43106361,  0.38778814,  0.71145247],\n",
       "       [-1.31748871, -0.13547442, -1.31412936],\n",
       "       [ 0.0365604 ,  0.28729856, -1.44929619],\n",
       "       [ 0.03785185, -2.1089614 , -0.55556544],\n",
       "       [-0.16061025, -0.03980504,  0.36273944],\n",
       "       [-1.83606881, -0.7138777 ,  1.52494555],\n",
       "       [ 0.26261092,  0.92265322, -1.47897496],\n",
       "       [-0.63489693,  0.62066302,  0.52109651],\n",
       "       [ 0.52705976, -1.10773788,  1.90342017]])"
      ]
     },
     "execution_count": 15,
     "metadata": {},
     "output_type": "execute_result"
    }
   ],
   "source": [
    "movie_features"
   ]
  },
  {
   "cell_type": "code",
   "execution_count": 16,
   "metadata": {},
   "outputs": [
    {
     "data": {
      "text/plain": [
       "array([[-0.66936764, -0.88395782,  0.61141144],\n",
       "       [-0.31282544,  0.89906122,  0.67755035],\n",
       "       [ 0.38128959, -1.16864119,  0.68359495],\n",
       "       [ 1.16520452,  1.0202663 , -0.59465236],\n",
       "       [ 0.25997244,  0.90734525,  0.47029973],\n",
       "       [ 0.20210925,  1.42249341, -2.42661917]])"
      ]
     },
     "execution_count": 16,
     "metadata": {},
     "output_type": "execute_result"
    }
   ],
   "source": [
    "user_prefs"
   ]
  },
  {
   "cell_type": "code",
   "execution_count": 17,
   "metadata": {},
   "outputs": [
    {
     "data": {
      "text/plain": [
       "(48,)"
      ]
     },
     "execution_count": 17,
     "metadata": {},
     "output_type": "execute_result"
    }
   ],
   "source": [
    "initial_X_and_theta.shape"
   ]
  },
  {
   "cell_type": "code",
   "execution_count": 18,
   "metadata": {},
   "outputs": [
    {
     "data": {
      "text/plain": [
       "array([ 0.07695652,  0.43106361, -1.31748871,  0.0365604 ,  0.03785185,\n",
       "       -0.16061025, -1.83606881,  0.26261092, -0.63489693,  0.52705976,\n",
       "       -1.88127091,  0.38778814, -0.13547442,  0.28729856, -2.1089614 ,\n",
       "       -0.03980504, -0.7138777 ,  0.92265322,  0.62066302, -1.10773788,\n",
       "       -1.98345064,  0.71145247, -1.31412936, -1.44929619, -0.55556544,\n",
       "        0.36273944,  1.52494555, -1.47897496,  0.52109651,  1.90342017])"
      ]
     },
     "execution_count": 18,
     "metadata": {},
     "output_type": "execute_result"
    }
   ],
   "source": [
    "movie_features.T.flatten()"
   ]
  },
  {
   "cell_type": "code",
   "execution_count": 19,
   "metadata": {},
   "outputs": [],
   "source": [
    "def unroll_params(X_and_theta, num_users, num_movies, num_features):\n",
    "\t# Retrieve the X and theta matrixes from X_and_theta, based on their dimensions (num_features, num_movies, num_movies)\n",
    "\t# --------------------------------------------------------------------------------------------------------------\n",
    "\t# Get the first 30 (10 * 3) rows in the 48 X 1 column vector\n",
    "\tfirst_30 = X_and_theta[:num_movies * num_features]\n",
    "\t# Reshape this column vector into a 10 X 3 matrix\n",
    "\tX = first_30.reshape((num_features, num_movies)).transpose()\n",
    "\t# Get the rest of the 18 the numbers, after the first 30\n",
    "\tlast_18 = X_and_theta[num_movies * num_features:]\n",
    "\t# Reshape this column vector into a 6 X 3 matrix\n",
    "\ttheta = last_18.reshape(num_features, num_users ).transpose()\n",
    "\treturn X, theta"
   ]
  },
  {
   "cell_type": "code",
   "execution_count": 20,
   "metadata": {},
   "outputs": [],
   "source": [
    "temp = initial_X_and_theta\n",
    "first_30 = temp[:num_movies * num_features]"
   ]
  },
  {
   "cell_type": "code",
   "execution_count": 21,
   "metadata": {},
   "outputs": [
    {
     "data": {
      "text/plain": [
       "array([ 0.07695652,  0.43106361, -1.31748871,  0.0365604 ,  0.03785185,\n",
       "       -0.16061025, -1.83606881,  0.26261092, -0.63489693,  0.52705976,\n",
       "       -1.88127091,  0.38778814, -0.13547442,  0.28729856, -2.1089614 ,\n",
       "       -0.03980504, -0.7138777 ,  0.92265322,  0.62066302, -1.10773788,\n",
       "       -1.98345064,  0.71145247, -1.31412936, -1.44929619, -0.55556544,\n",
       "        0.36273944,  1.52494555, -1.47897496,  0.52109651,  1.90342017])"
      ]
     },
     "execution_count": 21,
     "metadata": {},
     "output_type": "execute_result"
    }
   ],
   "source": [
    "first_30"
   ]
  },
  {
   "cell_type": "code",
   "execution_count": 22,
   "metadata": {},
   "outputs": [
    {
     "data": {
      "text/plain": [
       "array([[ 0.07695652, -1.88127091, -1.98345064],\n",
       "       [ 0.43106361,  0.38778814,  0.71145247],\n",
       "       [-1.31748871, -0.13547442, -1.31412936],\n",
       "       [ 0.0365604 ,  0.28729856, -1.44929619],\n",
       "       [ 0.03785185, -2.1089614 , -0.55556544],\n",
       "       [-0.16061025, -0.03980504,  0.36273944],\n",
       "       [-1.83606881, -0.7138777 ,  1.52494555],\n",
       "       [ 0.26261092,  0.92265322, -1.47897496],\n",
       "       [-0.63489693,  0.62066302,  0.52109651],\n",
       "       [ 0.52705976, -1.10773788,  1.90342017]])"
      ]
     },
     "execution_count": 22,
     "metadata": {},
     "output_type": "execute_result"
    }
   ],
   "source": [
    "first_30.reshape((num_features, num_movies)).transpose()"
   ]
  },
  {
   "cell_type": "code",
   "execution_count": 23,
   "metadata": {},
   "outputs": [
    {
     "data": {
      "text/plain": [
       "3"
      ]
     },
     "execution_count": 23,
     "metadata": {},
     "output_type": "execute_result"
    }
   ],
   "source": [
    "num_features"
   ]
  },
  {
   "cell_type": "code",
   "execution_count": null,
   "metadata": {},
   "outputs": [],
   "source": []
  },
  {
   "cell_type": "code",
   "execution_count": null,
   "metadata": {},
   "outputs": [],
   "source": []
  },
  {
   "cell_type": "code",
   "execution_count": null,
   "metadata": {},
   "outputs": [],
   "source": []
  },
  {
   "cell_type": "code",
   "execution_count": null,
   "metadata": {},
   "outputs": [],
   "source": []
  },
  {
   "cell_type": "code",
   "execution_count": null,
   "metadata": {},
   "outputs": [],
   "source": []
  },
  {
   "cell_type": "code",
   "execution_count": null,
   "metadata": {},
   "outputs": [],
   "source": []
  }
 ],
 "metadata": {
  "kernelspec": {
   "display_name": "Python [default]",
   "language": "python",
   "name": "python3"
  },
  "language_info": {
   "codemirror_mode": {
    "name": "ipython",
    "version": 3
   },
   "file_extension": ".py",
   "mimetype": "text/x-python",
   "name": "python",
   "nbconvert_exporter": "python",
   "pygments_lexer": "ipython3",
   "version": "3.7.0"
  }
 },
 "nbformat": 4,
 "nbformat_minor": 2
}
